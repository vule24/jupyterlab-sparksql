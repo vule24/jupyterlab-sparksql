{
 "cells": [
  {
   "cell_type": "code",
   "execution_count": 1,
   "id": "eb574f0b-068e-4830-8e68-6ffb673e0a49",
   "metadata": {
    "tags": []
   },
   "outputs": [],
   "source": [
    "import sys\n",
    "sys.path.append('../jupyterlab_sparksql/')"
   ]
  },
  {
   "cell_type": "code",
   "execution_count": 2,
   "id": "660fdab1-088a-4407-a7fa-0c1d1fe05a46",
   "metadata": {},
   "outputs": [
    {
     "data": {
      "application/javascript": [
       "try {require(['notebook/js/codecell'], function (codecell) {codecell.CodeCell.options_default.highlight_modes['magic_text/x-pgsql'] = { 'reg': [/^%%sql/, /^.*spark\\.sql\\(/] };Jupyter.notebook.events.one('kernel_ready.Kernel', function () {Jupyter.notebook.get_cells().map(function (cell) {if (cell.cell_type == 'code') { cell.auto_highlight(); }});});});} catch(e) {}"
      ]
     },
     "metadata": {},
     "output_type": "display_data"
    },
    {
     "data": {
      "application/javascript": [
       "\n",
       "        var sparkSqlWidgetIconUpdateEventId = localStorage.getItem('sparkSqlWidgetIconUpdateEventId');\n",
       "        if (sparkSqlWidgetIconUpdateEventId !== null) {\n",
       "            clearInterval(sparkSqlWidgetIconUpdateEventId)\n",
       "        }\n",
       "        sparkSqlWidgetIconUpdateEventId = setInterval(function () {\n",
       "            document.querySelectorAll(\".fa-chart-scatter\").forEach(element => {\n",
       "                let scatterIcon = `<span>\n",
       "                                        <svg xmlns=\"http://www.w3.org/2000/svg\" xmlns:xlink=\"http://www.w3.org/1999/xlink\" width=\"14px\" height=\"10px\" viewBox=\"0 0 13 10\" version=\"1.1\">\n",
       "                                            <g id=\"surface1\">\n",
       "                                                <path fill=\"currentColor\" d=\"M 0.472656 8.242188 L 12.527344 8.242188 C 12.777344 8.242188 12.980469 8.453125 12.980469 8.714844 L 12.980469 9.460938 C 12.980469 9.722656 12.777344 9.9375 12.527344 9.9375 L 0.472656 9.9375 C 0.222656 9.9375 0.0195312 9.722656 0.0195312 9.460938 L 0.0195312 8.714844 C 0.0195312 8.453125 0.222656 8.242188 0.472656 8.242188 Z M 0.472656 8.242188 \"/>\n",
       "                                                <path fill=\"currentColor\" d=\"M 0.472656 0 L 1.1875 0 C 1.4375 0 1.640625 0.214844 1.640625 0.476562 L 1.640625 9.460938 C 1.640625 9.722656 1.4375 9.9375 1.1875 9.9375 L 0.472656 9.9375 C 0.222656 9.9375 0.0195312 9.722656 0.0195312 9.460938 L 0.0195312 0.476562 C 0.0195312 0.214844 0.222656 0 0.472656 0 Z M 0.472656 0 \"/>\n",
       "                                                <path fill=\"currentColor\" d=\"M 5.285156 5.488281 C 5.285156 4.902344 4.832031 4.429688 4.273438 4.429688 C 3.714844 4.429688 3.261719 4.902344 3.261719 5.488281 C 3.261719 6.074219 3.714844 6.546875 4.273438 6.546875 C 4.832031 6.546875 5.285156 6.074219 5.285156 5.488281 Z M 5.285156 5.488281 \"/>\n",
       "                                                <path fill=\"currentColor\" d=\"M 7.308594 2.308594 C 7.308594 1.722656 6.855469 1.25 6.296875 1.25 C 5.738281 1.25 5.285156 1.722656 5.285156 2.308594 C 5.285156 2.894531 5.738281 3.367188 6.296875 3.367188 C 6.855469 3.367188 7.308594 2.894531 7.308594 2.308594 Z M 7.308594 2.308594 \"/>\n",
       "                                                <path fill=\"currentColor\" d=\"M 11.359375 1.886719 C 11.359375 1.300781 10.90625 0.828125 10.347656 0.828125 C 9.789062 0.828125 9.335938 1.300781 9.335938 1.886719 C 9.335938 2.46875 9.789062 2.945312 10.347656 2.945312 C 10.90625 2.945312 11.359375 2.46875 11.359375 1.886719 Z M 11.359375 1.886719 \"/>\n",
       "                                                <path fill=\"currentColor\" d=\"M 9.335938 4.96875 C 9.335938 4.382812 8.882812 3.910156 8.324219 3.910156 C 7.761719 3.910156 7.308594 4.382812 7.308594 4.96875 C 7.308594 5.554688 7.761719 6.027344 8.324219 6.027344 C 8.882812 6.027344 9.335938 5.554688 9.335938 4.96875 Z M 9.335938 4.96875 \"/>\n",
       "                                            </g>\n",
       "                                        </svg>\n",
       "                                    </span>`;\n",
       "                element.parentNode.innerHTML = scatterIcon;\n",
       "            });\n",
       "        }, 50)\n",
       "\n",
       "        localStorage.setItem('sparkSqlWidgetIconUpdateEventId', sparkSqlWidgetIconUpdateEventId)\n",
       "    "
      ],
      "text/plain": [
       "<IPython.core.display.Javascript object>"
      ]
     },
     "metadata": {},
     "output_type": "display_data"
    },
    {
     "data": {
      "text/html": [
       "<style>.jp-OutputArea-output { width: 10% !important }</style>"
      ],
      "text/plain": [
       "<IPython.core.display.HTML object>"
      ]
     },
     "metadata": {},
     "output_type": "display_data"
    }
   ],
   "source": [
    "from pyspark.sql import SparkSession\n",
    "spark = SparkSession.builder.master(\"local[*]\").getOrCreate()\n",
    "\n",
    "%load_ext magics\n",
    "%load_ext autoreload\n",
    "%autoreload 2"
   ]
  },
  {
   "cell_type": "code",
   "execution_count": 3,
   "id": "ad8f8e46-0036-4e5b-92d6-2864c28d8fae",
   "metadata": {
    "tags": []
   },
   "outputs": [],
   "source": [
    "table2 = spark.read.csv('people-2000000.csv', header=True, inferSchema=True).drop('Index')"
   ]
  },
  {
   "cell_type": "code",
   "execution_count": 20,
   "id": "e1677ccd-56a4-4e3f-a16d-ac8deeaab260",
   "metadata": {},
   "outputs": [
    {
     "data": {
      "application/vnd.jupyter.widget-view+json": {
       "model_id": "4d91d1533e88446385172151274352b1",
       "version_major": 2,
       "version_minor": 0
      },
      "text/plain": [
       "Output()"
      ]
     },
     "metadata": {},
     "output_type": "display_data"
    }
   ],
   "source": [
    "%%sql table1 \n",
    "select\n",
    "    *\n",
    "from (values\n",
    "    (0,0.0, '2023-05-31', 'line1\\nline2'),\n",
    "    (0,0.24, '2023-04-01', 'line1\\nline2'),\n",
    "    (0,0.56, '2023-05-01', 'line1\\nline2'),\n",
    "    (1,0.99, '2023-03-01', 'line1\\nline2'),\n",
    "    (1,1.0, '2023-03-01', 'line1\\nline2')\n",
    "      \n",
    ") as t(id, scale_score, update_time, test)\n",
    "order by update_time desc"
   ]
  },
  {
   "cell_type": "code",
   "execution_count": 5,
   "id": "e6808d63-c171-464b-ba9d-9faed50ca2f4",
   "metadata": {
    "tags": []
   },
   "outputs": [],
   "source": [
    "from pyspark.sql import functions as F"
   ]
  },
  {
   "cell_type": "code",
   "execution_count": 7,
   "id": "1bf694cb-5e57-49a0-8f9a-f04458228cee",
   "metadata": {
    "tags": []
   },
   "outputs": [
    {
     "name": "stdout",
     "output_type": "stream",
     "text": [
      "+---+-----------+-----------+----+\n",
      "| id|scale_score|update_time|tier|\n",
      "+---+-----------+-----------+----+\n",
      "|  0|       0.00| 2023-05-31|   5|\n",
      "|  0|       0.56| 2023-05-01|   3|\n",
      "|  0|       0.24| 2023-04-01|   4|\n",
      "|  1|       0.99| 2023-03-01|   1|\n",
      "|  1|       1.00| 2023-03-01|   1|\n",
      "+---+-----------+-----------+----+\n",
      "\n"
     ]
    }
   ],
   "source": [
    "table1.withColumn(\n",
    "    'tier',\n",
    "    5 - (F.col('scale_score') * 5 - 1e-4).cast('int')\n",
    ").show()"
   ]
  },
  {
   "cell_type": "code",
   "execution_count": 8,
   "id": "76834ba8-dc10-4870-a1e3-ef3e96c24298",
   "metadata": {
    "tags": []
   },
   "outputs": [
    {
     "name": "stdout",
     "output_type": "stream",
     "text": [
      "root\n",
      " |-- User Id: string (nullable = true)\n",
      " |-- First Name: string (nullable = true)\n",
      " |-- Last Name: string (nullable = true)\n",
      " |-- Sex: string (nullable = true)\n",
      " |-- Email: string (nullable = true)\n",
      " |-- Phone: string (nullable = true)\n",
      " |-- Date of birth: date (nullable = true)\n",
      " |-- Job Title: string (nullable = true)\n",
      "\n"
     ]
    }
   ],
   "source": [
    "table2.printSchema()"
   ]
  },
  {
   "cell_type": "code",
   "execution_count": 33,
   "id": "6769737c-02c4-49a5-8670-b3de22e60453",
   "metadata": {
    "tags": []
   },
   "outputs": [
    {
     "data": {
      "application/vnd.jupyter.widget-view+json": {
       "model_id": "b8dd0532a2a54d9da33475a7e710400e",
       "version_major": 2,
       "version_minor": 0
      },
      "text/plain": [
       "Output()"
      ]
     },
     "metadata": {},
     "output_type": "display_data"
    }
   ],
   "source": [
    "%%sql\n",
    "select\n",
    "    *\n",
    "from table2"
   ]
  },
  {
   "cell_type": "code",
   "execution_count": 32,
   "id": "7c0426b0-0dd7-4733-8c26-5f6de1387dbd",
   "metadata": {},
   "outputs": [
    {
     "data": {
      "application/vnd.jupyter.widget-view+json": {
       "model_id": "e726974600d343fda8ea52f100a37669",
       "version_major": 2,
       "version_minor": 0
      },
      "text/plain": [
       "Output()"
      ]
     },
     "metadata": {},
     "output_type": "display_data"
    }
   ],
   "source": [
    "%%sql table3\n",
    "select\n",
    "    `User Id` as user_id\n",
    "    , `First Name` as first_name\n",
    "    , `Last Name` as last_name\n",
    "    , Sex as sex\n",
    "    , Email as email\n",
    "    , Phone as phone\n",
    "    , `Date of birth` as dob\n",
    "    , `Job Title` as job_title\n",
    "from table2"
   ]
  },
  {
   "cell_type": "code",
   "execution_count": 30,
   "id": "2db1f01d-b280-49f2-ada1-bfe0351446d3",
   "metadata": {
    "tags": []
   },
   "outputs": [
    {
     "data": {
      "application/vnd.jupyter.widget-view+json": {
       "model_id": "28204972c9e14d9bb08b93bcdb9983b9",
       "version_major": 2,
       "version_minor": 0
      },
      "text/plain": [
       "Output()"
      ]
     },
     "metadata": {},
     "output_type": "display_data"
    }
   ],
   "source": [
    "%%sql\n",
    "select\n",
    "    *\n",
    "    , regexp_replace(job_title, r'\\s', '\\n') as job_title2\n",
    "from table3"
   ]
  },
  {
   "cell_type": "code",
   "execution_count": null,
   "id": "3d81950b-3bc1-43e6-a156-0b5421759736",
   "metadata": {},
   "outputs": [],
   "source": [
    "!pip install -U pandas"
   ]
  },
  {
   "cell_type": "code",
   "execution_count": 20,
   "id": "401c07db-305d-4dcd-a2fa-6f433164911d",
   "metadata": {},
   "outputs": [
    {
     "data": {
      "text/html": [
       "<div>\n",
       "<style scoped>\n",
       "    .dataframe tbody tr th:only-of-type {\n",
       "        vertical-align: middle;\n",
       "    }\n",
       "\n",
       "    .dataframe tbody tr th {\n",
       "        vertical-align: top;\n",
       "    }\n",
       "\n",
       "    .dataframe thead th {\n",
       "        text-align: right;\n",
       "    }\n",
       "</style>\n",
       "<table border=\"1\" class=\"dataframe\">\n",
       "  <thead>\n",
       "    <tr style=\"text-align: right;\">\n",
       "      <th></th>\n",
       "      <th>User Id</th>\n",
       "      <th>First Name</th>\n",
       "      <th>Last Name</th>\n",
       "      <th>Sex</th>\n",
       "      <th>Email</th>\n",
       "      <th>Phone</th>\n",
       "      <th>Date of birth</th>\n",
       "      <th>Job Title</th>\n",
       "    </tr>\n",
       "  </thead>\n",
       "  <tbody>\n",
       "    <tr>\n",
       "      <th>0</th>\n",
       "      <td>4defE49671cF860</td>\n",
       "      <td>Sydney</td>\n",
       "      <td>Shannon</td>\n",
       "      <td>Male</td>\n",
       "      <td>tvang@example.net</td>\n",
       "      <td>574-440-1423x9799</td>\n",
       "      <td>2020-07-09</td>\n",
       "      <td>Technical brewer</td>\n",
       "    </tr>\n",
       "    <tr>\n",
       "      <th>1</th>\n",
       "      <td>F89B87bCf8f210b</td>\n",
       "      <td>Regina</td>\n",
       "      <td>Lin</td>\n",
       "      <td>Male</td>\n",
       "      <td>helen14@example.net</td>\n",
       "      <td>001-273-664-2268x90121</td>\n",
       "      <td>1909-06-20</td>\n",
       "      <td>Teacher, adult education</td>\n",
       "    </tr>\n",
       "    <tr>\n",
       "      <th>2</th>\n",
       "      <td>Cad6052BDd5DEaf</td>\n",
       "      <td>Pamela</td>\n",
       "      <td>Blake</td>\n",
       "      <td>Female</td>\n",
       "      <td>brent05@example.org</td>\n",
       "      <td>927-880-5785x85266</td>\n",
       "      <td>1964-08-19</td>\n",
       "      <td>Armed forces operational officer</td>\n",
       "    </tr>\n",
       "    <tr>\n",
       "      <th>3</th>\n",
       "      <td>e83E46f80f629CD</td>\n",
       "      <td>Dave</td>\n",
       "      <td>Hoffman</td>\n",
       "      <td>Female</td>\n",
       "      <td>munozcraig@example.org</td>\n",
       "      <td>001-147-429-8340x608</td>\n",
       "      <td>2009-02-19</td>\n",
       "      <td>Ship broker</td>\n",
       "    </tr>\n",
       "    <tr>\n",
       "      <th>4</th>\n",
       "      <td>60AAc4DcaBcE3b6</td>\n",
       "      <td>Ian</td>\n",
       "      <td>Campos</td>\n",
       "      <td>Female</td>\n",
       "      <td>brownevelyn@example.net</td>\n",
       "      <td>166-126-4390</td>\n",
       "      <td>1997-10-02</td>\n",
       "      <td>Media planner</td>\n",
       "    </tr>\n",
       "    <tr>\n",
       "      <th>...</th>\n",
       "      <td>...</td>\n",
       "      <td>...</td>\n",
       "      <td>...</td>\n",
       "      <td>...</td>\n",
       "      <td>...</td>\n",
       "      <td>...</td>\n",
       "      <td>...</td>\n",
       "      <td>...</td>\n",
       "    </tr>\n",
       "    <tr>\n",
       "      <th>1999995</th>\n",
       "      <td>AbBE4F3Eb5df843</td>\n",
       "      <td>Susan</td>\n",
       "      <td>Ellison</td>\n",
       "      <td>Male</td>\n",
       "      <td>yward@example.net</td>\n",
       "      <td>855.222.4135x62040</td>\n",
       "      <td>1913-01-05</td>\n",
       "      <td>Research scientist (maths)</td>\n",
       "    </tr>\n",
       "    <tr>\n",
       "      <th>1999996</th>\n",
       "      <td>e71af3E8De63CDF</td>\n",
       "      <td>Cole</td>\n",
       "      <td>Sherman</td>\n",
       "      <td>Female</td>\n",
       "      <td>nbarnett@example.org</td>\n",
       "      <td>(130)829-9159x800</td>\n",
       "      <td>1977-04-15</td>\n",
       "      <td>Marketing executive</td>\n",
       "    </tr>\n",
       "    <tr>\n",
       "      <th>1999997</th>\n",
       "      <td>fAF0618097acD1B</td>\n",
       "      <td>Ethan</td>\n",
       "      <td>Leonard</td>\n",
       "      <td>Male</td>\n",
       "      <td>brett57@example.com</td>\n",
       "      <td>514.898.2376x3069</td>\n",
       "      <td>1960-08-14</td>\n",
       "      <td>Photographer</td>\n",
       "    </tr>\n",
       "    <tr>\n",
       "      <th>1999998</th>\n",
       "      <td>f1FC3346F68DFAb</td>\n",
       "      <td>Jordan</td>\n",
       "      <td>Waller</td>\n",
       "      <td>Female</td>\n",
       "      <td>harveykendra@example.com</td>\n",
       "      <td>6920274656</td>\n",
       "      <td>1911-09-05</td>\n",
       "      <td>Chartered accountant</td>\n",
       "    </tr>\n",
       "    <tr>\n",
       "      <th>1999999</th>\n",
       "      <td>B04Bb8bE7DA70ba</td>\n",
       "      <td>Shelley</td>\n",
       "      <td>Meza</td>\n",
       "      <td>Female</td>\n",
       "      <td>gamblejohnny@example.net</td>\n",
       "      <td>+1-765-874-1874</td>\n",
       "      <td>1961-11-30</td>\n",
       "      <td>Printmaker</td>\n",
       "    </tr>\n",
       "  </tbody>\n",
       "</table>\n",
       "<p>2000000 rows × 8 columns</p>\n",
       "</div>"
      ],
      "text/plain": [
       "                 User Id First Name Last Name     Sex   \n",
       "0        4defE49671cF860     Sydney   Shannon    Male  \\\n",
       "1        F89B87bCf8f210b     Regina       Lin    Male   \n",
       "2        Cad6052BDd5DEaf     Pamela     Blake  Female   \n",
       "3        e83E46f80f629CD       Dave   Hoffman  Female   \n",
       "4        60AAc4DcaBcE3b6        Ian    Campos  Female   \n",
       "...                  ...        ...       ...     ...   \n",
       "1999995  AbBE4F3Eb5df843      Susan   Ellison    Male   \n",
       "1999996  e71af3E8De63CDF       Cole   Sherman  Female   \n",
       "1999997  fAF0618097acD1B      Ethan   Leonard    Male   \n",
       "1999998  f1FC3346F68DFAb     Jordan    Waller  Female   \n",
       "1999999  B04Bb8bE7DA70ba    Shelley      Meza  Female   \n",
       "\n",
       "                            Email                   Phone Date of birth   \n",
       "0               tvang@example.net       574-440-1423x9799    2020-07-09  \\\n",
       "1             helen14@example.net  001-273-664-2268x90121    1909-06-20   \n",
       "2             brent05@example.org      927-880-5785x85266    1964-08-19   \n",
       "3          munozcraig@example.org    001-147-429-8340x608    2009-02-19   \n",
       "4         brownevelyn@example.net            166-126-4390    1997-10-02   \n",
       "...                           ...                     ...           ...   \n",
       "1999995         yward@example.net      855.222.4135x62040    1913-01-05   \n",
       "1999996      nbarnett@example.org       (130)829-9159x800    1977-04-15   \n",
       "1999997       brett57@example.com       514.898.2376x3069    1960-08-14   \n",
       "1999998  harveykendra@example.com              6920274656    1911-09-05   \n",
       "1999999  gamblejohnny@example.net         +1-765-874-1874    1961-11-30   \n",
       "\n",
       "                                Job Title  \n",
       "0                        Technical brewer  \n",
       "1                Teacher, adult education  \n",
       "2        Armed forces operational officer  \n",
       "3                             Ship broker  \n",
       "4                           Media planner  \n",
       "...                                   ...  \n",
       "1999995        Research scientist (maths)  \n",
       "1999996               Marketing executive  \n",
       "1999997                      Photographer  \n",
       "1999998              Chartered accountant  \n",
       "1999999                        Printmaker  \n",
       "\n",
       "[2000000 rows x 8 columns]"
      ]
     },
     "execution_count": 20,
     "metadata": {},
     "output_type": "execute_result"
    }
   ],
   "source": [
    "table2.toPandas()"
   ]
  },
  {
   "cell_type": "code",
   "execution_count": null,
   "id": "571d55a6-0b2b-434e-947d-2880a07fc831",
   "metadata": {},
   "outputs": [],
   "source": []
  }
 ],
 "metadata": {
  "kernelspec": {
   "display_name": "Python 3 (ipykernel)",
   "language": "python",
   "name": "python3"
  },
  "language_info": {
   "codemirror_mode": {
    "name": "ipython",
    "version": 3
   },
   "file_extension": ".py",
   "mimetype": "text/x-python",
   "name": "python",
   "nbconvert_exporter": "python",
   "pygments_lexer": "ipython3",
   "version": "3.10.11"
  }
 },
 "nbformat": 4,
 "nbformat_minor": 5
}
