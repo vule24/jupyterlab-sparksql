{
 "cells": [
  {
   "cell_type": "code",
   "execution_count": 1,
   "id": "eb574f0b-068e-4830-8e68-6ffb673e0a49",
   "metadata": {
    "tags": []
   },
   "outputs": [],
   "source": [
    "import sys\n",
    "sys.path.append('../jupyterlab_sparksql/')"
   ]
  },
  {
   "cell_type": "code",
   "execution_count": 2,
   "id": "660fdab1-088a-4407-a7fa-0c1d1fe05a46",
   "metadata": {},
   "outputs": [
    {
     "data": {
      "application/javascript": [
       "try {require(['notebook/js/codecell'], function (codecell) {codecell.CodeCell.options_default.highlight_modes['magic_text/x-pgsql'] = { 'reg': [/^%%sql/, /^.*spark\\.sql\\(/] };Jupyter.notebook.events.one('kernel_ready.Kernel', function () {Jupyter.notebook.get_cells().map(function (cell) {if (cell.cell_type == 'code') { cell.auto_highlight(); }});});});} catch(e) {}"
      ]
     },
     "metadata": {},
     "output_type": "display_data"
    },
    {
     "data": {
      "application/javascript": [
       "\n",
       "        var sparkSqlWidgetIconUpdateEventId = localStorage.getItem('sparkSqlWidgetIconUpdateEventId');\n",
       "        if (sparkSqlWidgetIconUpdateEventId !== null) {\n",
       "            clearInterval(sparkSqlWidgetIconUpdateEventId)\n",
       "        }\n",
       "        sparkSqlWidgetIconUpdateEventId = setInterval(function () {\n",
       "            document.querySelectorAll(\".fa-chart-scatter\").forEach(element => {\n",
       "                let scatterIcon = `<span>\n",
       "                                        <svg xmlns=\"http://www.w3.org/2000/svg\" xmlns:xlink=\"http://www.w3.org/1999/xlink\" width=\"14px\" height=\"10px\" viewBox=\"0 0 13 10\" version=\"1.1\">\n",
       "                                            <g id=\"surface1\">\n",
       "                                                <path fill=\"currentColor\" d=\"M 0.472656 8.242188 L 12.527344 8.242188 C 12.777344 8.242188 12.980469 8.453125 12.980469 8.714844 L 12.980469 9.460938 C 12.980469 9.722656 12.777344 9.9375 12.527344 9.9375 L 0.472656 9.9375 C 0.222656 9.9375 0.0195312 9.722656 0.0195312 9.460938 L 0.0195312 8.714844 C 0.0195312 8.453125 0.222656 8.242188 0.472656 8.242188 Z M 0.472656 8.242188 \"/>\n",
       "                                                <path fill=\"currentColor\" d=\"M 0.472656 0 L 1.1875 0 C 1.4375 0 1.640625 0.214844 1.640625 0.476562 L 1.640625 9.460938 C 1.640625 9.722656 1.4375 9.9375 1.1875 9.9375 L 0.472656 9.9375 C 0.222656 9.9375 0.0195312 9.722656 0.0195312 9.460938 L 0.0195312 0.476562 C 0.0195312 0.214844 0.222656 0 0.472656 0 Z M 0.472656 0 \"/>\n",
       "                                                <path fill=\"currentColor\" d=\"M 5.285156 5.488281 C 5.285156 4.902344 4.832031 4.429688 4.273438 4.429688 C 3.714844 4.429688 3.261719 4.902344 3.261719 5.488281 C 3.261719 6.074219 3.714844 6.546875 4.273438 6.546875 C 4.832031 6.546875 5.285156 6.074219 5.285156 5.488281 Z M 5.285156 5.488281 \"/>\n",
       "                                                <path fill=\"currentColor\" d=\"M 7.308594 2.308594 C 7.308594 1.722656 6.855469 1.25 6.296875 1.25 C 5.738281 1.25 5.285156 1.722656 5.285156 2.308594 C 5.285156 2.894531 5.738281 3.367188 6.296875 3.367188 C 6.855469 3.367188 7.308594 2.894531 7.308594 2.308594 Z M 7.308594 2.308594 \"/>\n",
       "                                                <path fill=\"currentColor\" d=\"M 11.359375 1.886719 C 11.359375 1.300781 10.90625 0.828125 10.347656 0.828125 C 9.789062 0.828125 9.335938 1.300781 9.335938 1.886719 C 9.335938 2.46875 9.789062 2.945312 10.347656 2.945312 C 10.90625 2.945312 11.359375 2.46875 11.359375 1.886719 Z M 11.359375 1.886719 \"/>\n",
       "                                                <path fill=\"currentColor\" d=\"M 9.335938 4.96875 C 9.335938 4.382812 8.882812 3.910156 8.324219 3.910156 C 7.761719 3.910156 7.308594 4.382812 7.308594 4.96875 C 7.308594 5.554688 7.761719 6.027344 8.324219 6.027344 C 8.882812 6.027344 9.335938 5.554688 9.335938 4.96875 Z M 9.335938 4.96875 \"/>\n",
       "                                            </g>\n",
       "                                        </svg>\n",
       "                                    </span>`;\n",
       "                element.parentNode.innerHTML = scatterIcon;\n",
       "            });\n",
       "        }, 50)\n",
       "\n",
       "        localStorage.setItem('sparkSqlWidgetIconUpdateEventId', sparkSqlWidgetIconUpdateEventId)\n",
       "    "
      ],
      "text/plain": [
       "<IPython.core.display.Javascript object>"
      ]
     },
     "metadata": {},
     "output_type": "display_data"
    },
    {
     "data": {
      "text/html": [
       "<style>.jp-OutputArea-output { width: 10% !important }</style>"
      ],
      "text/plain": [
       "<IPython.core.display.HTML object>"
      ]
     },
     "metadata": {},
     "output_type": "display_data"
    }
   ],
   "source": [
    "from pyspark.sql import SparkSession\n",
    "spark = SparkSession.builder.master(\"local[*]\").getOrCreate()\n",
    "\n",
    "%load_ext magics\n",
    "%load_ext autoreload\n",
    "%autoreload 2"
   ]
  },
  {
   "cell_type": "code",
   "execution_count": 3,
   "id": "ad8f8e46-0036-4e5b-92d6-2864c28d8fae",
   "metadata": {
    "tags": []
   },
   "outputs": [],
   "source": [
    "table2 = spark.read.csv('people-2000000.csv', header=True, inferSchema=True).drop('Index')"
   ]
  },
  {
   "cell_type": "code",
   "execution_count": 64,
   "id": "e1677ccd-56a4-4e3f-a16d-ac8deeaab260",
   "metadata": {},
   "outputs": [
    {
     "data": {
      "application/vnd.jupyter.widget-view+json": {
       "model_id": "4ceb56cda87e445cbedd9ec938d4506d",
       "version_major": 2,
       "version_minor": 0
      },
      "text/plain": [
       "Output()"
      ]
     },
     "metadata": {},
     "output_type": "display_data"
    }
   ],
   "source": [
    "%%sql xd \n",
    "select\n",
    "    *\n",
    "from (values\n",
    "    (0,null, '2023-05-31', 'line1\\nline2'),\n",
    "    (2,0.24, '2023-04-01', 'line3\\nline2'),\n",
    "    (1,0.56, '2023-05-01', 'line2\\nline2'),\n",
    "    (7,0.99, '2023-03-01', 'line5\\nline2'),\n",
    "    (10,float('-inf'), '2023-03-01', 'line4\\nline2')\n",
    "      \n",
    ") as t(id, scale_score, update_time, test)\n",
    "order by scale_score desc"
   ]
  },
  {
   "cell_type": "code",
   "execution_count": 8,
   "id": "19d42d0a-522f-4f38-9766-f1516b3a87e6",
   "metadata": {
    "tags": []
   },
   "outputs": [
    {
     "data": {
      "text/plain": [
       "id              int32\n",
       "scale_score    object\n",
       "update_time    object\n",
       "test           object\n",
       "dtype: object"
      ]
     },
     "execution_count": 8,
     "metadata": {},
     "output_type": "execute_result"
    }
   ],
   "source": [
    "table1.toPandas().dtypes"
   ]
  },
  {
   "cell_type": "code",
   "execution_count": 77,
   "id": "6769737c-02c4-49a5-8670-b3de22e60453",
   "metadata": {
    "tags": []
   },
   "outputs": [
    {
     "data": {
      "application/vnd.jupyter.widget-view+json": {
       "model_id": "0ea02894e74d41e68bc6c986c0f107d6",
       "version_major": 2,
       "version_minor": 0
      },
      "text/plain": [
       "Output()"
      ]
     },
     "metadata": {},
     "output_type": "display_data"
    }
   ],
   "source": [
    "%%sql -n 1000\n",
    "select\n",
    "    *\n",
    "from table2"
   ]
  },
  {
   "cell_type": "raw",
   "id": "dba1d584-5545-4a2c-bd86-96ac93ecebb8",
   "metadata": {},
   "source": []
  },
  {
   "cell_type": "code",
   "execution_count": 22,
   "id": "d8c9c797-b713-40f4-b649-76a83a0a1fb3",
   "metadata": {
    "tags": []
   },
   "outputs": [
    {
     "data": {
      "text/plain": [
       "User Id          object\n",
       "First Name       object\n",
       "Last Name        object\n",
       "Sex              object\n",
       "Email            object\n",
       "Phone            object\n",
       "Date of birth    object\n",
       "Job Title        object\n",
       "dtype: object"
      ]
     },
     "execution_count": 22,
     "metadata": {},
     "output_type": "execute_result"
    }
   ],
   "source": [
    "table2.toPandas().dtypes"
   ]
  },
  {
   "cell_type": "code",
   "execution_count": 114,
   "id": "056d2aca-c786-4386-aa0f-831f286be6a7",
   "metadata": {
    "tags": []
   },
   "outputs": [
    {
     "name": "stdout",
     "output_type": "stream",
     "text": [
      "[\"Number\", \"Number\", \"String\", \"Boolean\", \"Date\"]\n"
     ]
    }
   ],
   "source": [
    "import pandas as pd\n",
    "import json\n",
    "\n",
    "def map_dtypes(df):\n",
    "    # Define the mapping of Pandas data types to JavaScript data types\n",
    "    dtype_map = {\n",
    "        'int64': 'Number',\n",
    "        'float64': 'Number',\n",
    "        'object': 'String',\n",
    "        'bool': 'Boolean',\n",
    "        'datetime64[ns]': 'Date'\n",
    "    }\n",
    "    # Create an empty list to store the JavaScript data types of the columns\n",
    "    col_types = []\n",
    "    # Map the data types of the columns in the DataFrame\n",
    "    for col in df.columns:\n",
    "        if str(df[col].dtype) in dtype_map:\n",
    "            col_types.append(dtype_map[str(df[col].dtype)])\n",
    "    # Convert the col_types list to a JSON string and return it\n",
    "    return json.dumps(col_types)\n",
    "\n",
    "# Example usage\n",
    "df = pd.DataFrame({\n",
    "    'A': [1, 2, 3],\n",
    "    'B': [1.1, 2.2, 3.3],\n",
    "    'C': ['a', 'b', 'c'],\n",
    "    'D': [True, False, True],\n",
    "    'E': pd.date_range('2022-01-01', periods=3)\n",
    "})\n",
    "col_types_json = map_dtypes(df)\n",
    "print(col_types_json)\n"
   ]
  },
  {
   "cell_type": "code",
   "execution_count": 29,
   "id": "15f8a6ac-85c3-41b5-8ba8-66239cf3b1f5",
   "metadata": {},
   "outputs": [],
   "source": [
    "%%sql table3\n",
    "select\n",
    "    `User Id` as user_id\n",
    "    , `First Name` as first_name\n",
    "    , `Last Name` as last_name\n",
    "    , Sex as sex\n",
    "    , Email as email\n",
    "    , Phone as phone\n",
    "    , `Date of birth` as dob\n",
    "    , `Job Title` as job_title\n",
    "from table2\n",
    "\n",
    "%%sql\n",
    "select\n",
    "    *\n",
    "    , regexp_replace(job_title, r'\\s', '\\n') as job_title2\n",
    "from table3"
   ]
  },
  {
   "cell_type": "code",
   "execution_count": 11,
   "id": "d8bede8a-cdaa-4d25-a8ba-8bc4e155fce3",
   "metadata": {
    "tags": []
   },
   "outputs": [],
   "source": [
    "import ipywidgets as w"
   ]
  },
  {
   "cell_type": "code",
   "execution_count": 12,
   "id": "a8fe4897-41f9-401b-a8e2-c44caa26cdcb",
   "metadata": {
    "tags": []
   },
   "outputs": [
    {
     "data": {
      "application/vnd.jupyter.widget-view+json": {
       "model_id": "e547f3ba5d1a4f478cd94687ce976386",
       "version_major": 2,
       "version_minor": 0
      },
      "text/plain": [
       "Text(value='', layout=Layout(margin='1px 10px 2px 2px', width='150px'), placeholder='Search')"
      ]
     },
     "metadata": {},
     "output_type": "display_data"
    }
   ],
   "source": [
    "w.Text(\n",
    "    placeholder='Search',\n",
    "    disabled=False ,\n",
    "    icon='search',\n",
    "    layout=w.Layout(\n",
    "        width='150px',\n",
    "        margin='1px 10px 2px 2px'\n",
    "    )\n",
    ")"
   ]
  },
  {
   "cell_type": "code",
   "execution_count": 13,
   "id": "c0cffe28-afce-4fa9-bc38-fdb69b0c765a",
   "metadata": {
    "tags": []
   },
   "outputs": [
    {
     "ename": "NameError",
     "evalue": "name 'ipd' is not defined",
     "output_type": "error",
     "traceback": [
      "\u001b[0;31m---------------------------------------------------------------------------\u001b[0m",
      "\u001b[0;31mNameError\u001b[0m                                 Traceback (most recent call last)",
      "Cell \u001b[0;32mIn[13], line 1\u001b[0m\n\u001b[0;32m----> 1\u001b[0m \u001b[43mipd\u001b[49m\u001b[38;5;241m.\u001b[39mdisplay(ipd\u001b[38;5;241m.\u001b[39mHTML(\n\u001b[1;32m      2\u001b[0m \u001b[38;5;124;03m\"\"\"\u001b[39;00m\n\u001b[1;32m      3\u001b[0m \u001b[38;5;124;03m<div class=\"lm-Widget p-Widget jupyter-widgets widget-inline-hbox widget-text\" style=\"margin: 1px 10px 2px 2px; width: 150px;\">\u001b[39;00m\n\u001b[1;32m      4\u001b[0m \u001b[38;5;124;03m    <input type=\"text\" id=\"\" placeholder=\"Search\">\u001b[39;00m\n\u001b[1;32m      5\u001b[0m \u001b[38;5;124;03m</div>\u001b[39;00m\n\u001b[1;32m      6\u001b[0m \u001b[38;5;124;03m\"\"\"\u001b[39;00m\n\u001b[1;32m      7\u001b[0m ))\n",
      "\u001b[0;31mNameError\u001b[0m: name 'ipd' is not defined"
     ]
    }
   ],
   "source": [
    "ipd.display(ipd.HTML(\n",
    "\"\"\"\n",
    "<div class=\"lm-Widget p-Widget jupyter-widgets widget-inline-hbox widget-text\" style=\"margin: 1px 10px 2px 2px; width: 150px;\">\n",
    "    <input type=\"text\" id=\"\" placeholder=\"Search\">\n",
    "</div>\n",
    "\"\"\"\n",
    "))"
   ]
  },
  {
   "cell_type": "code",
   "execution_count": null,
   "id": "1b1bd694-5b0b-4bd2-94e5-12cab32f6c12",
   "metadata": {
    "tags": []
   },
   "outputs": [],
   "source": [
    "from IPython import display as ipd"
   ]
  },
  {
   "cell_type": "code",
   "execution_count": null,
   "id": "4b02bca4-0bbc-4d07-80ea-cdeb23faea05",
   "metadata": {},
   "outputs": [],
   "source": []
  },
  {
   "cell_type": "code",
   "execution_count": null,
   "id": "f5e2133f-e109-4999-b5b1-1a34c34f7733",
   "metadata": {},
   "outputs": [],
   "source": []
  },
  {
   "cell_type": "code",
   "execution_count": null,
   "id": "38089487-3dfb-4112-b16c-fab1e023c519",
   "metadata": {},
   "outputs": [],
   "source": []
  },
  {
   "cell_type": "code",
   "execution_count": null,
   "id": "571d55a6-0b2b-434e-947d-2880a07fc831",
   "metadata": {},
   "outputs": [],
   "source": [
    "html_string = \"\"\"\n",
    "<table id=\"T_0a393\" style=\"border-collapse:separate\">\n",
    "  <thead>\n",
    "    <tr>\n",
    "      <th class=\"blank level0\">&nbsp;</th>\n",
    "      <th id=\"T_0a394_level0_col0\" class=\"col_heading level0 col0\">user_id</th>\n",
    "</table>\n",
    "\"\"\""
   ]
  },
  {
   "cell_type": "code",
   "execution_count": null,
   "id": "ab7c3721-9d38-4436-a4a7-88ecfa8049a5",
   "metadata": {},
   "outputs": [],
   "source": []
  },
  {
   "cell_type": "code",
   "execution_count": null,
   "id": "5e34df83-bb3b-4df4-91aa-3fb34f10cbfb",
   "metadata": {
    "tags": []
   },
   "outputs": [],
   "source": [
    "import re"
   ]
  },
  {
   "cell_type": "code",
   "execution_count": null,
   "id": "32cfbc40-26fc-40e7-b397-2f5c974a4285",
   "metadata": {
    "tags": []
   },
   "outputs": [],
   "source": [
    "match = re.search(r'<table.*?id=\"(.*?)\".*?>', html_string)\n",
    "if match:\n",
    "    table_id = match.group(1)\n",
    "    print(table_id)"
   ]
  },
  {
   "cell_type": "code",
   "execution_count": null,
   "id": "907cbde5-b803-4375-bd16-32336a6f0ae0",
   "metadata": {
    "tags": []
   },
   "outputs": [],
   "source": [
    "def extract_table_id(html_table):\n",
    "    match = re.search(r'<table.*?id=\"(.*?)\".*?>', html_table)\n",
    "    if match:\n",
    "        return match.group(1)"
   ]
  },
  {
   "cell_type": "code",
   "execution_count": null,
   "id": "3e33f21b-23c6-4b46-a23c-7e04c41327e5",
   "metadata": {
    "tags": []
   },
   "outputs": [],
   "source": [
    "extract_table_id(html_string)"
   ]
  },
  {
   "cell_type": "code",
   "execution_count": 47,
   "id": "0e235462-dcd4-473f-8f43-94f781928600",
   "metadata": {
    "tags": []
   },
   "outputs": [
    {
     "data": {
      "text/html": [
       "<style type=\"text/css\">\n",
       "</style>\n",
       "<table id=\"T_50b8e\">\n",
       "  <thead>\n",
       "    <tr>\n",
       "      <th class=\"blank level0\" >&nbsp;</th>\n",
       "      <th id=\"T_50b8e_level0_col0\" class=\"col_heading level0 col0\" >col</th>\n",
       "    </tr>\n",
       "  </thead>\n",
       "  <tbody>\n",
       "    <tr>\n",
       "      <th id=\"T_50b8e_level0_row2\" class=\"row_heading level0 row2\" >C</th>\n",
       "      <td id=\"T_50b8e_row2_col0\" class=\"data row2 col0\" >c</td>\n",
       "    </tr>\n",
       "  </tbody>\n",
       "</table>\n"
      ],
      "text/plain": [
       "<pandas.io.formats.style.Styler at 0xffff6340d9c0>"
      ]
     },
     "execution_count": 47,
     "metadata": {},
     "output_type": "execute_result"
    }
   ],
   "source": [
    "import pandas as pd\n",
    "df = pd.DataFrame({\"col\": [\"a\", \"b\", \"c\"]})\n",
    "df.style.relabel_index([\"A\", \"B\", \"C\"]).hide([0,1])\n"
   ]
  },
  {
   "cell_type": "code",
   "execution_count": 48,
   "id": "a2a6cf2c-6b5a-477b-b25d-36ad1db3b173",
   "metadata": {
    "tags": []
   },
   "outputs": [
    {
     "data": {
      "text/html": [
       "<style type=\"text/css\">\n",
       "</style>\n",
       "<table id=\"T_b92c6\">\n",
       "  <thead>\n",
       "    <tr>\n",
       "      <th class=\"blank level0\" >&nbsp;</th>\n",
       "      <th id=\"T_b92c6_level0_col0\" class=\"col_heading level0 col0\" >col</th>\n",
       "    </tr>\n",
       "  </thead>\n",
       "  <tbody>\n",
       "    <tr>\n",
       "      <th id=\"T_b92c6_level0_row2\" class=\"row_heading level0 row2\" >C</th>\n",
       "      <td id=\"T_b92c6_row2_col0\" class=\"data row2 col0\" >c</td>\n",
       "    </tr>\n",
       "  </tbody>\n",
       "</table>\n"
      ],
      "text/plain": [
       "<pandas.io.formats.style.Styler at 0xffff6340ff70>"
      ]
     },
     "execution_count": 48,
     "metadata": {},
     "output_type": "execute_result"
    }
   ],
   "source": [
    "# hide first, then relabel\n",
    "df = pd.DataFrame({\"col\": [\"a\", \"b\", \"c\"]})\n",
    "df.style.hide([0,1]).relabel_index([\"C\"])"
   ]
  },
  {
   "cell_type": "code",
   "execution_count": 58,
   "id": "9ba0e1da-d81c-46ea-b6ae-817e6cab7159",
   "metadata": {
    "tags": []
   },
   "outputs": [
    {
     "name": "stdout",
     "output_type": "stream",
     "text": [
      "<thead>\n",
      "    <tr>\n",
      "      <th class=\"blank level0\" onclick=\"(function(){ sortTable('T_dfd8a', 0) })()\">#<i class=\"fa fa-sort\" aria-hidden=\"true\"></i>\n",
      "      <th id=\"T_dfd8a_level0_col0\" class=\"col_heading level0 col0\" onclick=\"(function(){ sortTable('T_dfd8a', 1) })()\">>id<i class=\"fa fa-sort\" aria-hidden=\"true\"></i>\n",
      "      <th id=\"T_dfd8a_level0_col1\" class=\"col_heading level0 col1\" onclick=\"(function(){ sortTable('T_dfd8a', 2) })()\">>scale_score<i class=\"fa fa-sort\" aria-hidden=\"true\"></i>\n",
      "      <th id=\"T_dfd8a_level0_col2\" class=\"col_heading level0 col2\" onclick=\"(function(){ sortTable('T_dfd8a', 3) })()\">>update_time<i class=\"fa fa-sort\" aria-hidden=\"true\"></i>\n",
      "      <th id=\"T_dfd8a_level0_col3\" class=\"col_heading level0 col3\" onclick=\"(function(){ sortTable('T_dfd8a', 4) })()\">>test<i class=\"fa fa-sort\" aria-hidden=\"true\"></i>\n",
      "    </tr>\n",
      "  </thead>\n"
     ]
    }
   ],
   "source": [
    "import re\n",
    "\n",
    "table_html = \"\"\"<thead>\n",
    "    <tr>\n",
    "      <th class=\"blank level0\">#</th>\n",
    "      <th id=\"T_dfd8a_level0_col0\" class=\"col_heading level0 col0\">id</th>\n",
    "      <th id=\"T_dfd8a_level0_col1\" class=\"col_heading level0 col1\">scale_score</th>\n",
    "      <th id=\"T_dfd8a_level0_col2\" class=\"col_heading level0 col2\">update_time</th>\n",
    "      <th id=\"T_dfd8a_level0_col3\" class=\"col_heading level0 col3\">test</th>\n",
    "    </tr>\n",
    "  </thead>\"\"\"\n",
    "\n",
    "thead = re.search(r'<thead>[\\s\\S]*?</thead>', table_html)\n",
    "if thead:\n",
    "    # Extract the content of the thead tag\n",
    "    thead_content = thead.group()\n",
    "    # Find all th tags within the thead tag\n",
    "    th_tags = re.findall(r'<th.*?>.*?</th>', thead_content)\n",
    "for i, tag in enumerate(th_tags):\n",
    "    tag_open = re.findall(r'<th[^e][^>]*>', tag)[0]\n",
    "    tag_content = re.findall(r'(?=>)(.*)(?=</th>)', tag)[0] if i != 0 else '#'\n",
    "    new_tag = tag_open[:-1] + f' onclick=\"(function(){{ sortTable(\\'T_dfd8a\\', {i}) }})()\">' + tag_content + '<i class=\"fa fa-sort\" aria-hidden=\"true\"></i>'\n",
    "    table_html = table_html.replace(tag, new_tag)\n",
    "print(table_html)"
   ]
  },
  {
   "cell_type": "code",
   "execution_count": 50,
   "id": "59d48e24-b898-4fc0-a8cf-85f060fd8a78",
   "metadata": {},
   "outputs": [
    {
     "name": "stdout",
     "output_type": "stream",
     "text": [
      " \n"
     ]
    }
   ],
   "source": [
    "import re\n",
    "\n",
    "text = \"\"\"\n",
    "<tr>\n",
    "      <th class=\"blank level0\"> </th>\n",
    "    </tr>\n",
    "\"\"\"\n",
    "\n",
    "pattern = r'<th.*?>(.*?)</th>'\n",
    "matches = re.findall(pattern, text)\n",
    "\n",
    "for match in matches:\n",
    "    print(match)\n"
   ]
  },
  {
   "cell_type": "code",
   "execution_count": null,
   "id": "3b0e2bd7-937a-4db4-855f-0a80c33599c1",
   "metadata": {},
   "outputs": [],
   "source": []
  },
  {
   "cell_type": "code",
   "execution_count": null,
   "id": "7f24f3f5-6cbb-4421-baf3-0c609ba1de54",
   "metadata": {},
   "outputs": [],
   "source": []
  }
 ],
 "metadata": {
  "kernelspec": {
   "display_name": "Python 3 (ipykernel)",
   "language": "python",
   "name": "python3"
  },
  "language_info": {
   "codemirror_mode": {
    "name": "ipython",
    "version": 3
   },
   "file_extension": ".py",
   "mimetype": "text/x-python",
   "name": "python",
   "nbconvert_exporter": "python",
   "pygments_lexer": "ipython3",
   "version": "3.10.11"
  }
 },
 "nbformat": 4,
 "nbformat_minor": 5
}
